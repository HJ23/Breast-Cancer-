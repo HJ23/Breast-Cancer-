{
  "nbformat": 4,
  "nbformat_minor": 0,
  "metadata": {
    "colab": {
      "name": "Untitled82.ipynb",
      "provenance": [],
      "collapsed_sections": []
    },
    "kernelspec": {
      "name": "python3",
      "display_name": "Python 3"
    },
    "accelerator": "GPU"
  },
  "cells": [
    {
      "cell_type": "code",
      "metadata": {
        "id": "LpAVVENU9PhH"
      },
      "source": [
        "# create own network \n",
        "# https://www.kaggle.com/skooch/ddsm-mammography/notebooks\n",
        "# lr scheduler : https://www.kaggle.com/skooch/fcn-for-detecting-abnormalities-in-mammograms\n",
        "#   https://www.kaggle.com/allunia/breast-cancer"
      ],
      "execution_count": null,
      "outputs": []
    },
    {
      "cell_type": "code",
      "metadata": {
        "id": "aeqLlRqIN-qN"
      },
      "source": [
        "#!cp ./chkp.pth ./drive/My\\ Drive/"
      ],
      "execution_count": null,
      "outputs": []
    },
    {
      "cell_type": "code",
      "metadata": {
        "id": "5I4DbtUYOHZ6"
      },
      "source": [
        ""
      ],
      "execution_count": null,
      "outputs": []
    },
    {
      "cell_type": "code",
      "metadata": {
        "id": "DThHMbEtlJTn"
      },
      "source": [
        "!cp ./drive/My\\ Drive/chkp.pth ./ "
      ],
      "execution_count": null,
      "outputs": []
    },
    {
      "cell_type": "code",
      "metadata": {
        "id": "DZbpbNcNGl_p"
      },
      "source": [
        "!cp ./drive/My\\ Drive/all-mias.tar.gz ./"
      ],
      "execution_count": null,
      "outputs": []
    },
    {
      "cell_type": "code",
      "metadata": {
        "id": "WnOqwlRuc_7w",
        "outputId": "3ab30934-c87c-4495-e1ab-2845a8525287",
        "colab": {
          "base_uri": "https://localhost:8080/",
          "height": 85
        }
      },
      "source": [
        "!rm -r files;\n",
        "!rmdir files;\n",
        "!rm -r test;\n",
        "!rm *.txt;"
      ],
      "execution_count": null,
      "outputs": [
        {
          "output_type": "stream",
          "text": [
            "rm: cannot remove 'files': No such file or directory\n",
            "rmdir: failed to remove 'files': No such file or directory\n",
            "rm: cannot remove 'test': No such file or directory\n",
            "rm: cannot remove '*.txt': No such file or directory\n"
          ],
          "name": "stdout"
        }
      ]
    },
    {
      "cell_type": "code",
      "metadata": {
        "id": "VQEu6c40RF6J",
        "outputId": "e7d6e72b-357e-4df3-d193-2965998f7595",
        "colab": {
          "base_uri": "https://localhost:8080/",
          "height": 1000
        }
      },
      "source": [
        "!tar -xzvf all-mias.tar.gz"
      ],
      "execution_count": null,
      "outputs": [
        {
          "output_type": "stream",
          "text": [
            "Info.txt\n",
            "Licence.txt\n",
            "README\n",
            "mdb001.pgm\n",
            "mdb002.pgm\n",
            "mdb003.pgm\n",
            "mdb004.pgm\n",
            "mdb005.pgm\n",
            "mdb006.pgm\n",
            "mdb007.pgm\n",
            "mdb008.pgm\n",
            "mdb009.pgm\n",
            "mdb010.pgm\n",
            "mdb011.pgm\n",
            "mdb012.pgm\n",
            "mdb013.pgm\n",
            "mdb014.pgm\n",
            "mdb015.pgm\n",
            "mdb016.pgm\n",
            "mdb017.pgm\n",
            "mdb018.pgm\n",
            "mdb019.pgm\n",
            "mdb020.pgm\n",
            "mdb021.pgm\n",
            "mdb022.pgm\n",
            "mdb023.pgm\n",
            "mdb024.pgm\n",
            "mdb025.pgm\n",
            "mdb026.pgm\n",
            "mdb027.pgm\n",
            "mdb028.pgm\n",
            "mdb029.pgm\n",
            "mdb030.pgm\n",
            "mdb031.pgm\n",
            "mdb032.pgm\n",
            "mdb033.pgm\n",
            "mdb034.pgm\n",
            "mdb035.pgm\n",
            "mdb036.pgm\n",
            "mdb037.pgm\n",
            "mdb038.pgm\n",
            "mdb039.pgm\n",
            "mdb040.pgm\n",
            "mdb041.pgm\n",
            "mdb042.pgm\n",
            "mdb043.pgm\n",
            "mdb044.pgm\n",
            "mdb045.pgm\n",
            "mdb046.pgm\n",
            "mdb047.pgm\n",
            "mdb048.pgm\n",
            "mdb049.pgm\n",
            "mdb050.pgm\n",
            "mdb051.pgm\n",
            "mdb052.pgm\n",
            "mdb053.pgm\n",
            "mdb054.pgm\n",
            "mdb055.pgm\n",
            "mdb056.pgm\n",
            "mdb057.pgm\n",
            "mdb058.pgm\n",
            "mdb059.pgm\n",
            "mdb060.pgm\n",
            "mdb061.pgm\n",
            "mdb062.pgm\n",
            "mdb063.pgm\n",
            "mdb064.pgm\n",
            "mdb065.pgm\n",
            "mdb066.pgm\n",
            "mdb067.pgm\n",
            "mdb068.pgm\n",
            "mdb069.pgm\n",
            "mdb070.pgm\n",
            "mdb071.pgm\n",
            "mdb072.pgm\n",
            "mdb073.pgm\n",
            "mdb074.pgm\n",
            "mdb075.pgm\n",
            "mdb076.pgm\n",
            "mdb077.pgm\n",
            "mdb078.pgm\n",
            "mdb079.pgm\n",
            "mdb080.pgm\n",
            "mdb081.pgm\n",
            "mdb082.pgm\n",
            "mdb083.pgm\n",
            "mdb084.pgm\n",
            "mdb085.pgm\n",
            "mdb086.pgm\n",
            "mdb087.pgm\n",
            "mdb088.pgm\n",
            "mdb089.pgm\n",
            "mdb090.pgm\n",
            "mdb091.pgm\n",
            "mdb092.pgm\n",
            "mdb093.pgm\n",
            "mdb094.pgm\n",
            "mdb095.pgm\n",
            "mdb096.pgm\n",
            "mdb097.pgm\n",
            "mdb098.pgm\n",
            "mdb099.pgm\n",
            "mdb100.pgm\n",
            "mdb101.pgm\n",
            "mdb102.pgm\n",
            "mdb103.pgm\n",
            "mdb104.pgm\n",
            "mdb105.pgm\n",
            "mdb106.pgm\n",
            "mdb107.pgm\n",
            "mdb108.pgm\n",
            "mdb109.pgm\n",
            "mdb110.pgm\n",
            "mdb111.pgm\n",
            "mdb112.pgm\n",
            "mdb113.pgm\n",
            "mdb114.pgm\n",
            "mdb115.pgm\n",
            "mdb116.pgm\n",
            "mdb117.pgm\n",
            "mdb118.pgm\n",
            "mdb119.pgm\n",
            "mdb120.pgm\n",
            "mdb121.pgm\n",
            "mdb122.pgm\n",
            "mdb123.pgm\n",
            "mdb124.pgm\n",
            "mdb125.pgm\n",
            "mdb126.pgm\n",
            "mdb127.pgm\n",
            "mdb128.pgm\n",
            "mdb129.pgm\n",
            "mdb130.pgm\n",
            "mdb131.pgm\n",
            "mdb132.pgm\n",
            "mdb133.pgm\n",
            "mdb134.pgm\n",
            "mdb135.pgm\n",
            "mdb136.pgm\n",
            "mdb137.pgm\n",
            "mdb138.pgm\n",
            "mdb139.pgm\n",
            "mdb140.pgm\n",
            "mdb141.pgm\n",
            "mdb142.pgm\n",
            "mdb143.pgm\n",
            "mdb144.pgm\n",
            "mdb145.pgm\n",
            "mdb146.pgm\n",
            "mdb147.pgm\n",
            "mdb148.pgm\n",
            "mdb149.pgm\n",
            "mdb150.pgm\n",
            "mdb151.pgm\n",
            "mdb152.pgm\n",
            "mdb153.pgm\n",
            "mdb154.pgm\n",
            "mdb155.pgm\n",
            "mdb156.pgm\n",
            "mdb157.pgm\n",
            "mdb158.pgm\n",
            "mdb159.pgm\n",
            "mdb160.pgm\n",
            "mdb161.pgm\n",
            "mdb162.pgm\n",
            "mdb163.pgm\n",
            "mdb164.pgm\n",
            "mdb165.pgm\n",
            "mdb166.pgm\n",
            "mdb167.pgm\n",
            "mdb168.pgm\n",
            "mdb169.pgm\n",
            "mdb170.pgm\n",
            "mdb171.pgm\n",
            "mdb172.pgm\n",
            "mdb173.pgm\n",
            "mdb174.pgm\n",
            "mdb175.pgm\n",
            "mdb176.pgm\n",
            "mdb177.pgm\n",
            "mdb178.pgm\n",
            "mdb179.pgm\n",
            "mdb180.pgm\n",
            "mdb181.pgm\n",
            "mdb182.pgm\n",
            "mdb183.pgm\n",
            "mdb184.pgm\n",
            "mdb185.pgm\n",
            "mdb186.pgm\n",
            "mdb187.pgm\n",
            "mdb188.pgm\n",
            "mdb189.pgm\n",
            "mdb190.pgm\n",
            "mdb191.pgm\n",
            "mdb192.pgm\n",
            "mdb193.pgm\n",
            "mdb194.pgm\n",
            "mdb195.pgm\n",
            "mdb196.pgm\n",
            "mdb197.pgm\n",
            "mdb198.pgm\n",
            "mdb199.pgm\n",
            "mdb200.pgm\n",
            "mdb201.pgm\n",
            "mdb202.pgm\n",
            "mdb203.pgm\n",
            "mdb204.pgm\n",
            "mdb205.pgm\n",
            "mdb206.pgm\n",
            "mdb207.pgm\n",
            "mdb208.pgm\n",
            "mdb209.pgm\n",
            "mdb210.pgm\n",
            "mdb211.pgm\n",
            "mdb212.pgm\n",
            "mdb213.pgm\n",
            "mdb214.pgm\n",
            "mdb215.pgm\n",
            "mdb216.pgm\n",
            "mdb217.pgm\n",
            "mdb218.pgm\n",
            "mdb219.pgm\n",
            "mdb220.pgm\n",
            "mdb221.pgm\n",
            "mdb222.pgm\n",
            "mdb223.pgm\n",
            "mdb224.pgm\n",
            "mdb225.pgm\n",
            "mdb226.pgm\n",
            "mdb227.pgm\n",
            "mdb228.pgm\n",
            "mdb229.pgm\n",
            "mdb230.pgm\n",
            "mdb231.pgm\n",
            "mdb232.pgm\n",
            "mdb233.pgm\n",
            "mdb234.pgm\n",
            "mdb235.pgm\n",
            "mdb236.pgm\n",
            "mdb237.pgm\n",
            "mdb238.pgm\n",
            "mdb239.pgm\n",
            "mdb240.pgm\n",
            "mdb241.pgm\n",
            "mdb242.pgm\n",
            "mdb243.pgm\n",
            "mdb244.pgm\n",
            "mdb245.pgm\n",
            "mdb246.pgm\n",
            "mdb247.pgm\n",
            "mdb248.pgm\n",
            "mdb249.pgm\n",
            "mdb250.pgm\n",
            "mdb251.pgm\n",
            "mdb252.pgm\n",
            "mdb253.pgm\n",
            "mdb254.pgm\n",
            "mdb255.pgm\n",
            "mdb256.pgm\n",
            "mdb257.pgm\n",
            "mdb258.pgm\n",
            "mdb259.pgm\n",
            "mdb260.pgm\n",
            "mdb261.pgm\n",
            "mdb262.pgm\n",
            "mdb263.pgm\n",
            "mdb264.pgm\n",
            "mdb265.pgm\n",
            "mdb266.pgm\n",
            "mdb267.pgm\n",
            "mdb268.pgm\n",
            "mdb269.pgm\n",
            "mdb270.pgm\n",
            "mdb271.pgm\n",
            "mdb272.pgm\n",
            "mdb273.pgm\n",
            "mdb274.pgm\n",
            "mdb275.pgm\n",
            "mdb276.pgm\n",
            "mdb277.pgm\n",
            "mdb278.pgm\n",
            "mdb279.pgm\n",
            "mdb280.pgm\n",
            "mdb281.pgm\n",
            "mdb282.pgm\n",
            "mdb283.pgm\n",
            "mdb284.pgm\n",
            "mdb285.pgm\n",
            "mdb286.pgm\n",
            "mdb287.pgm\n",
            "mdb288.pgm\n",
            "mdb289.pgm\n",
            "mdb290.pgm\n",
            "mdb291.pgm\n",
            "mdb292.pgm\n",
            "mdb293.pgm\n",
            "mdb294.pgm\n",
            "mdb295.pgm\n",
            "mdb296.pgm\n",
            "mdb297.pgm\n",
            "mdb298.pgm\n",
            "mdb299.pgm\n",
            "mdb300.pgm\n",
            "mdb301.pgm\n",
            "mdb302.pgm\n",
            "mdb303.pgm\n",
            "mdb304.pgm\n",
            "mdb305.pgm\n",
            "mdb306.pgm\n",
            "mdb307.pgm\n",
            "mdb308.pgm\n",
            "mdb309.pgm\n",
            "mdb310.pgm\n",
            "mdb311.pgm\n",
            "mdb312.pgm\n",
            "mdb313.pgm\n",
            "mdb314.pgm\n",
            "mdb315.pgm\n",
            "mdb316.pgm\n",
            "mdb317.pgm\n",
            "mdb318.pgm\n",
            "mdb319.pgm\n",
            "mdb320.pgm\n",
            "mdb321.pgm\n",
            "mdb322.pgm\n"
          ],
          "name": "stdout"
        }
      ]
    },
    {
      "cell_type": "code",
      "metadata": {
        "id": "bpDZcMt5ZgBs"
      },
      "source": [
        "!mkdir files\n",
        "!mv *.pgm ./files/"
      ],
      "execution_count": null,
      "outputs": []
    },
    {
      "cell_type": "code",
      "metadata": {
        "id": "ga1Q6BzoPnCl"
      },
      "source": [
        ""
      ],
      "execution_count": null,
      "outputs": []
    },
    {
      "cell_type": "code",
      "metadata": {
        "id": "dxmTCkqBPnAh"
      },
      "source": [
        ""
      ],
      "execution_count": null,
      "outputs": []
    },
    {
      "cell_type": "code",
      "metadata": {
        "id": "N7TsGMYCPm8x"
      },
      "source": [
        ""
      ],
      "execution_count": null,
      "outputs": []
    },
    {
      "cell_type": "code",
      "metadata": {
        "id": "z8GL3b0zaMgv"
      },
      "source": [
        "!mkdir ./files/B\n",
        "!mkdir ./files/M\n",
        "\n",
        "!mkdir test\n",
        "!mkdir ./test/B\n",
        "!mkdir ./test/M\n"
      ],
      "execution_count": null,
      "outputs": []
    },
    {
      "cell_type": "code",
      "metadata": {
        "id": "typbNk1ram_h",
        "outputId": "efe1f298-af64-4b16-934a-fd0e3d9a7729",
        "colab": {
          "base_uri": "https://localhost:8080/",
          "height": 1000
        }
      },
      "source": [
        "imgx={}\n",
        "counter=0\n",
        "with open(\"./Info.txt\") as file:\n",
        "  for line1 in file:\n",
        "    counter+=1\n",
        "    if (len(line1.split(\" \"))<3 or counter<104 or counter>433 or counter==322):\n",
        "      continue\n",
        "    if (len(line1.split())<=3):\n",
        "      continue  \n",
        "    if (len(line1.split(\" \"))!=7):\n",
        "      continue\n",
        "    print(line1)\n",
        "    p1,p2,r=line1.split(\" \")[4:]\n",
        "    \n",
        "    x1 = int(p1) - int(r)\n",
        "    y1 = 1024 - int(p2) - int(r)\n",
        "    x2 = int(p1) + int(r)\n",
        "    y2 = 1024 - int(p2) + int(r)\n",
        "    imgx[line1.split(\" \")[0]]=(line1.split()[3],x1,y1,x2,y2)"
      ],
      "execution_count": null,
      "outputs": [
        {
          "output_type": "stream",
          "text": [
            "mdb001 G CIRC B 535 425 197\n",
            "\n",
            "mdb002 G CIRC B 522 280 69\n",
            "\n",
            "mdb005 F CIRC B 477 133 30\n",
            "\n",
            "mdb005 F CIRC B 500 168 26\n",
            "\n",
            "mdb010 F CIRC B 525 425 33\n",
            "\n",
            "mdb012 F CIRC B 471 458 40\n",
            "\n",
            "mdb013 G MISC B 667 365 31\n",
            "\n",
            "mdb015 G CIRC B 595 864 68\n",
            "\n",
            "mdb017 G CIRC B 547 573 48\n",
            "\n",
            "mdb019 G CIRC B 653 477 49\n",
            "\n",
            "mdb021 G CIRC B 493 125 49\n",
            "\n",
            "mdb023 G CIRC M 538 681 29\n",
            "\n",
            "mdb025 F CIRC B 674 443 79\n",
            "\n",
            "mdb028 F CIRC M 338 314 56\n",
            "\n",
            "mdb030 G MISC B 322 676 43\n",
            "\n",
            "mdb032 G MISC B 388 742 66\n",
            "\n",
            "mdb058 D MISC M 318 359 27\n",
            "\n",
            "mdb063 D MISC B 546 463 33\n",
            "\n",
            "mdb069 F CIRC B 462 406 44\n",
            "\n",
            "mdb072 G ASYM M 266 517 28\n",
            "\n",
            "mdb075 F ASYM M 468 717 23\n",
            "\n",
            "mdb080 F CIRC B 432 149 20\n",
            "\n",
            "mdb081 G ASYM B 492 473 131\n",
            "\n",
            "mdb083 G ASYM B 544 194 38\n",
            "\n",
            "mdb090 G ASYM M 510 547 49\n",
            "\n",
            "mdb091 F CIRC B 680 494 20\n",
            "\n",
            "mdb092 F ASYM M 423 662 43\n",
            "\n",
            "mdb095 F ASYM M 466 517 29\n",
            "\n",
            "mdb097 F ASYM B 612 297 34\n",
            "\n",
            "mdb099 D ASYM B 714 340 23\n",
            "\n",
            "mdb102 D ASYM M 415 460 38\n",
            "\n",
            "mdb104 D ASYM B 357 365 50\n",
            "\n",
            "mdb105 D ASYM M 516 279 98\n",
            "\n",
            "mdb107 D ASYM B 600 621 111\n",
            "\n",
            "mdb110 D ASYM M 190 427 51\n",
            "\n",
            "mdb111 D ASYM M 505 575 107\n",
            "\n",
            "mdb115 G ARCH M 461 532 117\n",
            "\n",
            "mdb117 G ARCH M 480 576 84\n",
            "\n",
            "mdb120 G ARCH M 423 262 79\n",
            "\n",
            "mdb121 G ARCH B 492 434 87\n",
            "\n",
            "mdb124 G ARCH M 366 620 33\n",
            "\n",
            "mdb125 D ARCH M 700 552 60\n",
            "\n",
            "mdb126 D ARCH B 191 549 23\n",
            "\n",
            "mdb127 G ARCH B 523 551 48\n",
            "\n",
            "mdb130 D ARCH M 220 552 28\n",
            "\n",
            "mdb132 F CIRC B 252 788 52\n",
            "\n",
            "mdb132 F CIRC B 335 766 18\n",
            "\n",
            "mdb134 F MISC M 469 728 49\n",
            "\n",
            "mdb141 F CIRC M 470 759 29\n",
            "\n",
            "mdb142 F CIRC B 347 636 26\n",
            "\n",
            "mdb144 F MISC B 233 994 29\n",
            "\n",
            "mdb144 F MISC M 313 540 27\n",
            "\n",
            "mdb145 D SPIC B 669 543 49\n",
            "\n",
            "mdb148 F SPIC M 326 607 174\n",
            "\n",
            "mdb150 F ARCH B 351 661 62\n",
            "\n",
            "mdb152 F ARCH B 675 486 48\n",
            "\n",
            "mdb155 F ARCH M 448 480 95\n",
            "\n",
            "mdb158 F ARCH M 540 565 88\n",
            "\n",
            "mdb160 F ARCH B 536 519 61\n",
            "\n",
            "mdb163 D ARCH B 391 365 50\n",
            "\n",
            "mdb165 D ARCH B 537 490 42\n",
            "\n",
            "mdb167 F ARCH B 574 657 35\n",
            "\n",
            "mdb170 D ARCH M 489 480 82\n",
            "\n",
            "mdb171 D ARCH M 462 627 62\n",
            "\n",
            "mdb175 G SPIC B 592 670 33\n",
            "\n",
            "mdb178 G SPIC M 492 600 70\n",
            "\n",
            "mdb179 D SPIC M 600 514 67\n",
            "\n",
            "mdb181 G SPIC M 519 362 54\n",
            "\n",
            "mdb184 F SPIC M 352 624 114\n",
            "\n",
            "mdb186 G SPIC M 403 524 47\n",
            "\n",
            "mdb188 G SPIC B 406 617 61\n",
            "\n",
            "mdb190 G SPIC B 512 621 31\n",
            "\n",
            "mdb191 G SPIC B 594 516 41\n",
            "\n",
            "mdb193 D SPIC B 399 563 132\n",
            "\n",
            "mdb195 F SPIC B 725 129 26\n",
            "\n",
            "mdb198 D SPIC B 568 612 93\n",
            "\n",
            "mdb199 D SPIC B 641 177 31\n",
            "\n",
            "mdb202 D SPIC M 557 772 37\n",
            "\n",
            "mdb204 F SPIC B 336 399 21\n",
            "\n",
            "mdb206 F SPIC M 368 200 17\n",
            "\n",
            "mdb207 D SPIC B 571 564 19\n",
            "\n",
            "mdb209 G CALC M 647 503 87\n",
            "\n",
            "mdb211 G CALC M 680 327 13\n",
            "\n",
            "mdb212 G CALC B 687 882 3\n",
            "\n",
            "mdb213 G CALC M 547 520 45\n",
            "\n",
            "mdb214 G CALC B 582 916 11\n",
            "\n",
            "mdb218 G CALC B 519 629 8\n",
            "\n",
            "mdb219 G CALC B 546 756 29\n",
            "\n",
            "mdb222 D CALC B 398 427 17\n",
            "\n",
            "mdb223 D CALC B 523 482 29\n",
            "\n",
            "mdb223 D CALC B 591 529 6\n",
            "\n",
            "mdb226 D CALC B 287 610 7\n",
            "\n",
            "mdb226 D CALC B 329 550 25\n",
            "\n",
            "mdb226 D CALC B 531 721 8\n",
            "\n",
            "mdb227 G CALC B 504 467 9\n",
            "\n",
            "mdb231 F CALC M 603 538 44\n",
            "\n",
            "mdb236 D CALC B 276 824 14\n",
            "\n",
            "mdb238 F CALC M 522 553 17\n",
            "\n",
            "mdb239 D CALC M 645 755 40\n",
            "\n",
            "mdb239 D CALC M 567 808 25\n",
            "\n",
            "mdb240 D CALC B 643 614 23\n",
            "\n",
            "mdb241 D CALC M 453 678 38\n",
            "\n",
            "mdb244 D CIRC B 466 567 52\n",
            "\n",
            "mdb248 F CALC B 378 601 10\n",
            "\n",
            "mdb249 D CALC M 544 508 48\n",
            "\n",
            "mdb249 D CALC M 575 639 64\n",
            "\n",
            "mdb252 F CALC B 439 367 23\n",
            "\n",
            "mdb253 D CALC M 733 564 28\n",
            "\n",
            "mdb256 F CALC M 400 484 37\n",
            "\n",
            "mdb264 G MISC M 596 431 36\n",
            "\n",
            "mdb265 G MISC M 593 498 60\n",
            "\n",
            "mdb267 F MISC M 793 481 56\n",
            "\n",
            "mdb270 G CIRC M 356 945 72\n",
            "\n",
            "mdb271 F MISC M 784 270 68\n",
            "\n",
            "mdb274 F MISC M 127 505 123\n",
            "\n",
            "mdb290 D CIRC B 337 353 45\n",
            "\n",
            "mdb312 F MISC B 240 263 20\n",
            "\n",
            "mdb314 F MISC B 518 191 39\n",
            "\n",
            "mdb315 D CIRC B 516 447 93\n",
            "\n"
          ],
          "name": "stdout"
        }
      ]
    },
    {
      "cell_type": "code",
      "metadata": {
        "id": "hiDbrfylcOlk"
      },
      "source": [
        "import random\n",
        "import time\n",
        "import shutil,os\n",
        "from PIL import Image\n",
        "\n",
        "\n",
        "for key,item in imgx.items():\n",
        "  shutil.move(\"./files/\"+key+\".pgm\",\"./files/\"+item[0]+\"/\"+key+\".pgm\")\n"
      ],
      "execution_count": null,
      "outputs": []
    },
    {
      "cell_type": "code",
      "metadata": {
        "id": "UWUM5q78Xf7-"
      },
      "source": [
        "import cv2\n",
        "dirs=[\"B\",\"M\"]\n",
        "\n",
        "for dir in dirs:\n",
        "  imgs=os.listdir(\"./files/\"+dir)\n",
        "  for img in imgs:\n",
        "    i=cv2.imread(\"./files/\"+dir+\"/\"+img)\n",
        "    _,x1,y1,x2,y2=imgx[img.split(\".\")[0]]\n",
        "   # it = cv2.rectangle(i, (x1, y1), (x2, y2), (255,255,255), 2)\n",
        "    it=i[y1:y2,x1:x2]\n",
        "   # it=i[imgx[img.split(\".\")[0]][1]:imgx[img.split(\".\")[0]][3],imgx[img.split(\".\")[0]][2]:imgx[img.split(\".\")[0]][4]]\n",
        "    cv2.imwrite(\"./files/\"+dir+\"/\"+img.split(\".\")[0]+\".png\",it)\n",
        "      "
      ],
      "execution_count": null,
      "outputs": []
    },
    {
      "cell_type": "code",
      "metadata": {
        "id": "Nf9gLZwQZ7pQ"
      },
      "source": [
        "!rm -r ./files/{B,M}/*.pgm \n",
        "!rm  ./files/*.pgm"
      ],
      "execution_count": null,
      "outputs": []
    },
    {
      "cell_type": "code",
      "metadata": {
        "id": "Xoiazp5OcOsY"
      },
      "source": [
        "dirs=[\"B\",\"M\"]\n",
        "\n",
        "for dir in dirs:\n",
        "  imgs=os.listdir(\"./files/\"+dir)\n",
        "  for img in imgs:\n",
        "    i=Image.open(\"./files/\"+dir+\"/\"+img)\n",
        "    \n",
        "    for angle in range(0,360,10):\n",
        "      it=i.rotate(angle)\n",
        "      it.save(\"./files/\"+dir+\"/\"+img.split(\".\")[0]+\"-\"+str(angle)+\".png\")\n",
        "      "
      ],
      "execution_count": null,
      "outputs": []
    },
    {
      "cell_type": "code",
      "metadata": {
        "id": "5VqrcyCW-oqO",
        "outputId": "9d10097e-be3d-4c79-b7ac-b3efa0430813",
        "colab": {
          "base_uri": "https://localhost:8080/",
          "height": 51
        }
      },
      "source": [
        "dirs=os.listdir(\"./files/\")\n",
        "for dir in dirs:\n",
        "  files=os.listdir(\"./files/\"+dir)\n",
        "  print(dir,len(files))"
      ],
      "execution_count": null,
      "outputs": [
        {
          "output_type": "stream",
          "text": [
            "B 2294\n",
            "M 1813\n"
          ],
          "name": "stdout"
        }
      ]
    },
    {
      "cell_type": "code",
      "metadata": {
        "id": "jTvQhnSxpiby"
      },
      "source": [
        "dirs=os.listdir(\"./files\")\n",
        "for dir in dirs:\n",
        "  files=os.listdir(\"./files/\"+dir)\n",
        "  tmp=[]\n",
        "  unique=set()\n",
        "  for count in range(len(files)-1500):\n",
        "    uni_int=random.randint(0,len(files)-1)\n",
        "    while ( uni_int in unique ):\n",
        "      random.seed(time.time())\n",
        "      uni_int=random.randint(0,len(files)-1)\n",
        "    \n",
        "    unique.add(uni_int)\n",
        "    tmp.append(files[uni_int])\n",
        "  \n",
        "  for file in tmp:\n",
        "    shutil.move(\"./files/\"+dir+\"/\"+file,\"./test/\"+dir+\"/\"+file)\n"
      ],
      "execution_count": null,
      "outputs": []
    },
    {
      "cell_type": "code",
      "metadata": {
        "id": "b-xnQ2865bBD",
        "outputId": "034dd68b-2793-45b4-a9b6-b543b089ea80",
        "colab": {
          "base_uri": "https://localhost:8080/",
          "height": 51
        }
      },
      "source": [
        "dirs=os.listdir(\"./files/\")\n",
        "for dir in dirs:\n",
        "  files=os.listdir(\"./files/\"+dir)\n",
        "  print(dir,len(files))"
      ],
      "execution_count": null,
      "outputs": [
        {
          "output_type": "stream",
          "text": [
            "B 1500\n",
            "M 1500\n"
          ],
          "name": "stdout"
        }
      ]
    },
    {
      "cell_type": "code",
      "metadata": {
        "id": "blF2iLlk5a9x"
      },
      "source": [
        ""
      ],
      "execution_count": null,
      "outputs": []
    },
    {
      "cell_type": "code",
      "metadata": {
        "id": "59bWUCxR5a60"
      },
      "source": [
        ""
      ],
      "execution_count": null,
      "outputs": []
    },
    {
      "cell_type": "code",
      "metadata": {
        "id": "bL3h3zJPRHPP"
      },
      "source": [
        "import torch\n",
        "import numpy as np\n",
        "import cv2\n",
        "import torchvision\n",
        "from matplotlib import  pyplot\n",
        "import torchvision.transforms as transforms"
      ],
      "execution_count": null,
      "outputs": []
    },
    {
      "cell_type": "code",
      "metadata": {
        "id": "xGaOftOcWYLU",
        "outputId": "6c113867-11c3-4c06-b206-79f81c92a144",
        "colab": {
          "base_uri": "https://localhost:8080/",
          "height": 391
        }
      },
      "source": [
        "transformer=transforms.Compose([\n",
        "        transforms.Resize((256,256)),\n",
        "    #    transforms.ColorJitter(brightness=0.3, contrast=0.3, saturation=0.3, hue=0),\n",
        "    #    transforms.RandomAffine(degrees=20, translate=(0.1, 0.1), scale=(0.8, 1.2),\n",
        "    #                        shear=None, resample=False, fillcolor=(255, 255, 255)),\n",
        "        transforms.ToTensor(),\n",
        "        transforms.Normalize([0.5, 0.5, 0.5], [0.5, 0.5, 0.5])\n",
        "      #  transforms.Normalize([0.485, 0.456, 0.406], [0.229, 0.224, 0.225])\n",
        "    ])\n",
        "\n",
        "  \n",
        "dataset_train=torchvision.datasets.ImageFolder(\"./files\",transform=transformer)\n",
        "\n",
        "dataloader_train=torch.utils.data.DataLoader(dataset_train, batch_size=32,shuffle=True, num_workers=4)\n",
        "\n",
        "\n",
        "\n",
        "dataset_test=torchvision.datasets.ImageFolder(\"./test\",transform=transformer)\n",
        "\n",
        "dataloader_test=torch.utils.data.DataLoader(dataset_test,shuffle=True, batch_size=32, num_workers=4)\n",
        "\n",
        "\n"
      ],
      "execution_count": null,
      "outputs": [
        {
          "output_type": "error",
          "ename": "FileNotFoundError",
          "evalue": "ignored",
          "traceback": [
            "\u001b[0;31m---------------------------------------------------------------------------\u001b[0m",
            "\u001b[0;31mFileNotFoundError\u001b[0m                         Traceback (most recent call last)",
            "\u001b[0;32m<ipython-input-5-d64cb28790f9>\u001b[0m in \u001b[0;36m<module>\u001b[0;34m()\u001b[0m\n\u001b[1;32m     10\u001b[0m \u001b[0;34m\u001b[0m\u001b[0m\n\u001b[1;32m     11\u001b[0m \u001b[0;34m\u001b[0m\u001b[0m\n\u001b[0;32m---> 12\u001b[0;31m \u001b[0mdataset_train\u001b[0m\u001b[0;34m=\u001b[0m\u001b[0mtorchvision\u001b[0m\u001b[0;34m.\u001b[0m\u001b[0mdatasets\u001b[0m\u001b[0;34m.\u001b[0m\u001b[0mImageFolder\u001b[0m\u001b[0;34m(\u001b[0m\u001b[0;34m\"./files\"\u001b[0m\u001b[0;34m,\u001b[0m\u001b[0mtransform\u001b[0m\u001b[0;34m=\u001b[0m\u001b[0mtransformer\u001b[0m\u001b[0;34m)\u001b[0m\u001b[0;34m\u001b[0m\u001b[0;34m\u001b[0m\u001b[0m\n\u001b[0m\u001b[1;32m     13\u001b[0m \u001b[0;34m\u001b[0m\u001b[0m\n\u001b[1;32m     14\u001b[0m \u001b[0mdataloader_train\u001b[0m\u001b[0;34m=\u001b[0m\u001b[0mtorch\u001b[0m\u001b[0;34m.\u001b[0m\u001b[0mutils\u001b[0m\u001b[0;34m.\u001b[0m\u001b[0mdata\u001b[0m\u001b[0;34m.\u001b[0m\u001b[0mDataLoader\u001b[0m\u001b[0;34m(\u001b[0m\u001b[0mdataset_train\u001b[0m\u001b[0;34m,\u001b[0m \u001b[0mbatch_size\u001b[0m\u001b[0;34m=\u001b[0m\u001b[0;36m32\u001b[0m\u001b[0;34m,\u001b[0m\u001b[0mshuffle\u001b[0m\u001b[0;34m=\u001b[0m\u001b[0;32mTrue\u001b[0m\u001b[0;34m,\u001b[0m \u001b[0mnum_workers\u001b[0m\u001b[0;34m=\u001b[0m\u001b[0;36m4\u001b[0m\u001b[0;34m)\u001b[0m\u001b[0;34m\u001b[0m\u001b[0;34m\u001b[0m\u001b[0m\n",
            "\u001b[0;32m/usr/local/lib/python3.6/dist-packages/torchvision/datasets/folder.py\u001b[0m in \u001b[0;36m__init__\u001b[0;34m(self, root, transform, target_transform, loader, is_valid_file)\u001b[0m\n\u001b[1;32m    206\u001b[0m                                           \u001b[0mtransform\u001b[0m\u001b[0;34m=\u001b[0m\u001b[0mtransform\u001b[0m\u001b[0;34m,\u001b[0m\u001b[0;34m\u001b[0m\u001b[0;34m\u001b[0m\u001b[0m\n\u001b[1;32m    207\u001b[0m                                           \u001b[0mtarget_transform\u001b[0m\u001b[0;34m=\u001b[0m\u001b[0mtarget_transform\u001b[0m\u001b[0;34m,\u001b[0m\u001b[0;34m\u001b[0m\u001b[0;34m\u001b[0m\u001b[0m\n\u001b[0;32m--> 208\u001b[0;31m                                           is_valid_file=is_valid_file)\n\u001b[0m\u001b[1;32m    209\u001b[0m         \u001b[0mself\u001b[0m\u001b[0;34m.\u001b[0m\u001b[0mimgs\u001b[0m \u001b[0;34m=\u001b[0m \u001b[0mself\u001b[0m\u001b[0;34m.\u001b[0m\u001b[0msamples\u001b[0m\u001b[0;34m\u001b[0m\u001b[0;34m\u001b[0m\u001b[0m\n",
            "\u001b[0;32m/usr/local/lib/python3.6/dist-packages/torchvision/datasets/folder.py\u001b[0m in \u001b[0;36m__init__\u001b[0;34m(self, root, loader, extensions, transform, target_transform, is_valid_file)\u001b[0m\n\u001b[1;32m     92\u001b[0m         super(DatasetFolder, self).__init__(root, transform=transform,\n\u001b[1;32m     93\u001b[0m                                             target_transform=target_transform)\n\u001b[0;32m---> 94\u001b[0;31m         \u001b[0mclasses\u001b[0m\u001b[0;34m,\u001b[0m \u001b[0mclass_to_idx\u001b[0m \u001b[0;34m=\u001b[0m \u001b[0mself\u001b[0m\u001b[0;34m.\u001b[0m\u001b[0m_find_classes\u001b[0m\u001b[0;34m(\u001b[0m\u001b[0mself\u001b[0m\u001b[0;34m.\u001b[0m\u001b[0mroot\u001b[0m\u001b[0;34m)\u001b[0m\u001b[0;34m\u001b[0m\u001b[0;34m\u001b[0m\u001b[0m\n\u001b[0m\u001b[1;32m     95\u001b[0m         \u001b[0msamples\u001b[0m \u001b[0;34m=\u001b[0m \u001b[0mmake_dataset\u001b[0m\u001b[0;34m(\u001b[0m\u001b[0mself\u001b[0m\u001b[0;34m.\u001b[0m\u001b[0mroot\u001b[0m\u001b[0;34m,\u001b[0m \u001b[0mclass_to_idx\u001b[0m\u001b[0;34m,\u001b[0m \u001b[0mextensions\u001b[0m\u001b[0;34m,\u001b[0m \u001b[0mis_valid_file\u001b[0m\u001b[0;34m)\u001b[0m\u001b[0;34m\u001b[0m\u001b[0;34m\u001b[0m\u001b[0m\n\u001b[1;32m     96\u001b[0m         \u001b[0;32mif\u001b[0m \u001b[0mlen\u001b[0m\u001b[0;34m(\u001b[0m\u001b[0msamples\u001b[0m\u001b[0;34m)\u001b[0m \u001b[0;34m==\u001b[0m \u001b[0;36m0\u001b[0m\u001b[0;34m:\u001b[0m\u001b[0;34m\u001b[0m\u001b[0;34m\u001b[0m\u001b[0m\n",
            "\u001b[0;32m/usr/local/lib/python3.6/dist-packages/torchvision/datasets/folder.py\u001b[0m in \u001b[0;36m_find_classes\u001b[0;34m(self, dir)\u001b[0m\n\u001b[1;32m    121\u001b[0m             \u001b[0mNo\u001b[0m \u001b[0;32mclass\u001b[0m \u001b[0;32mis\u001b[0m \u001b[0ma\u001b[0m \u001b[0msubdirectory\u001b[0m \u001b[0mof\u001b[0m \u001b[0manother\u001b[0m\u001b[0;34m.\u001b[0m\u001b[0;34m\u001b[0m\u001b[0;34m\u001b[0m\u001b[0m\n\u001b[1;32m    122\u001b[0m         \"\"\"\n\u001b[0;32m--> 123\u001b[0;31m         \u001b[0mclasses\u001b[0m \u001b[0;34m=\u001b[0m \u001b[0;34m[\u001b[0m\u001b[0md\u001b[0m\u001b[0;34m.\u001b[0m\u001b[0mname\u001b[0m \u001b[0;32mfor\u001b[0m \u001b[0md\u001b[0m \u001b[0;32min\u001b[0m \u001b[0mos\u001b[0m\u001b[0;34m.\u001b[0m\u001b[0mscandir\u001b[0m\u001b[0;34m(\u001b[0m\u001b[0mdir\u001b[0m\u001b[0;34m)\u001b[0m \u001b[0;32mif\u001b[0m \u001b[0md\u001b[0m\u001b[0;34m.\u001b[0m\u001b[0mis_dir\u001b[0m\u001b[0;34m(\u001b[0m\u001b[0;34m)\u001b[0m\u001b[0;34m]\u001b[0m\u001b[0;34m\u001b[0m\u001b[0;34m\u001b[0m\u001b[0m\n\u001b[0m\u001b[1;32m    124\u001b[0m         \u001b[0mclasses\u001b[0m\u001b[0;34m.\u001b[0m\u001b[0msort\u001b[0m\u001b[0;34m(\u001b[0m\u001b[0;34m)\u001b[0m\u001b[0;34m\u001b[0m\u001b[0;34m\u001b[0m\u001b[0m\n\u001b[1;32m    125\u001b[0m         \u001b[0mclass_to_idx\u001b[0m \u001b[0;34m=\u001b[0m \u001b[0;34m{\u001b[0m\u001b[0mcls_name\u001b[0m\u001b[0;34m:\u001b[0m \u001b[0mi\u001b[0m \u001b[0;32mfor\u001b[0m \u001b[0mi\u001b[0m\u001b[0;34m,\u001b[0m \u001b[0mcls_name\u001b[0m \u001b[0;32min\u001b[0m \u001b[0menumerate\u001b[0m\u001b[0;34m(\u001b[0m\u001b[0mclasses\u001b[0m\u001b[0;34m)\u001b[0m\u001b[0;34m}\u001b[0m\u001b[0;34m\u001b[0m\u001b[0;34m\u001b[0m\u001b[0m\n",
            "\u001b[0;31mFileNotFoundError\u001b[0m: [Errno 2] No such file or directory: './files'"
          ]
        }
      ]
    },
    {
      "cell_type": "code",
      "metadata": {
        "id": "wvOdmfcjRHSF"
      },
      "source": [
        "class Identity(torch.nn.Module):\n",
        "  def __init__(self):\n",
        "    super(Identity,self).__init__()\n",
        "  def forward(self,inp):\n",
        "    return inp\n",
        "\n",
        "class XRAYmodel(torch.nn.Module):\n",
        "  def __init__(self):\n",
        "    super(XRAYmodel,self).__init__()\n",
        "    self.mainnet=torchvision.models.resnet101(pretrained=True)\n",
        "\n",
        "    for layer in self.mainnet.parameters():\n",
        "      layer.requires_grad=False\n",
        "    \n",
        "    self.mainnet.fc=torch.nn.Sequential(torch.nn.Conv2d(2048,3,1,1,0))\n",
        "    self.mainnet.fc.requires_grad=True\n",
        "    print(self.mainnet.fc.requires_grad)\n",
        "  def forward(self,input):\n",
        "    return self.mainnet(input)\n",
        "\n",
        "\n",
        "def conv_block(in_ch,out_ch):\n",
        "  network=[torch.nn.Conv2d(in_ch,out_ch,3,1,1)]\n",
        "  network+=[torch.nn.BatchNorm2d(out_ch)]\n",
        "  network+=[torch.nn.LeakyReLU(0.1)]\n",
        "  return torch.nn.Sequential(*network)\n",
        "\n",
        "class custom_model_RESBLOCK(torch.nn.Module):\n",
        "  def __init__(self):\n",
        "    super(custom_model_RESBLOCK,self).__init__()\n",
        "    \n",
        "    self.downsample=torch.nn.MaxPool2d(2)\n",
        "    \n",
        "    self.network1=conv_block(3,64)\n",
        "    self.network2=conv_block(64,64)\n",
        "    # 128\n",
        "    self.network3=conv_block(64,128)\n",
        "    self.network4=conv_block(128,128)\n",
        "    # 64\n",
        "    self.network5=conv_block(128,256)\n",
        "    self.network6=conv_block(256,256)\n",
        "    # 32\n",
        "    self.network7=conv_block(256,512)\n",
        "    self.network8=conv_block(512,512)\n",
        "    # 16\n",
        "    self.network9= conv_block(512,512)\n",
        "    self.network10=conv_block(512,512)\n",
        "    # 8\n",
        "    self.network11=conv_block(512,1024)\n",
        "    self.network12=conv_block(1024,1024)\n",
        "    # 4\n",
        "#    self.network13=conv_block(512,1024)\n",
        "#    self.network14=conv_block(1024,1024)\n",
        "    # 2\n",
        "#    self.network15=conv_block(1024,2048)\n",
        "#    self.network16=conv_block(2048,2048)\n",
        "    # 1\n",
        "\n",
        "    self.features=conv_block(1024,2)\n",
        "\n",
        "  def forward(self,input):\n",
        "    a=self.network1(input)\n",
        "    b=a+self.network2(a)\n",
        "    c=self.downsample(b)\n",
        "    \n",
        "    a=self.network3(c)\n",
        "    b=a+self.network4(a)\n",
        "    c=self.downsample(b)\n",
        "    \n",
        "    a=self.network5(c)\n",
        "    b=a+self.network6(a)\n",
        "    c=self.downsample(b)\n",
        "    \n",
        "    a=self.network7(c)\n",
        "    b=a+self.network8(a)\n",
        "    c=self.downsample(b)\n",
        "    \n",
        "    a=self.network9(c)\n",
        "    b=a+self.network10(a)\n",
        "    c=self.downsample(b)\n",
        "    \n",
        "    a=self.network11(c)\n",
        "    b=a+self.network12(a)\n",
        "    c=self.downsample(b)\n",
        "    ###\n",
        "#    a=self.network13(c)\n",
        "#    b=a+self.network14(a)\n",
        "#    c=self.downsample(b)\n",
        "    \n",
        "#    a=self.network15(c)\n",
        "#    b=a+self.network16(a)\n",
        "#    c=self.downsample(b)\n",
        "    \n",
        "    return self.features(c)\n",
        "\n",
        "\n",
        "class FCN(torch.nn.Module):\n",
        "  def __init__(self):\n",
        "    super(FCN,self).__init__()\n",
        "    self.feature_extractor=custom_model_RESBLOCK()\n",
        "    self.fc=torch.nn.Sequential(torch.nn.ReLU(),torch.nn.BatchNorm2d(2),torch.nn.Conv2d(2,2,1,1,0))\n",
        "  def forward(self,input):\n",
        "    features=self.feature_extractor(input)\n",
        "    return self.fc(features)\n",
        "\n",
        "\n",
        "    "
      ],
      "execution_count": null,
      "outputs": []
    },
    {
      "cell_type": "code",
      "metadata": {
        "id": "nkQpowPZRHWH"
      },
      "source": [
        "model=custom_model_RESBLOCK()\n",
        "model=model.cuda()"
      ],
      "execution_count": null,
      "outputs": []
    },
    {
      "cell_type": "code",
      "metadata": {
        "id": "1Uw4W93qrx3V"
      },
      "source": [
        "#model(torch.randn((1,3,256,256)).cuda()).shape"
      ],
      "execution_count": null,
      "outputs": []
    },
    {
      "cell_type": "code",
      "metadata": {
        "id": "lo0mKwV1CUA1"
      },
      "source": [
        "optimizer=torch.optim.Adam(model.parameters(),lr=2e-5)\n",
        "criterion=torch.nn.CrossEntropyLoss()\n",
        "\n",
        "#scheduler = torch.optim.lr_scheduler.OneCycleLR(optimizer,max_lr=0.1,steps_per_epoch=len(dataloader_train),epochs=20)\n",
        "# lr_scheduler.StepLR(optimizer_ft, step_size=7, gamma=0.1) "
      ],
      "execution_count": null,
      "outputs": []
    },
    {
      "cell_type": "code",
      "metadata": {
        "id": "WPDz-NgjDnsx"
      },
      "source": [
        "#torch.ones((1,2,2,2))*torch.tensor([[[[2,2],[2,2]],[[3,3],[3,3]]]])"
      ],
      "execution_count": null,
      "outputs": []
    },
    {
      "cell_type": "code",
      "metadata": {
        "id": "TrRrGZ-OO8Q8"
      },
      "source": [
        "#model.load_state_dict(torch.load(\"chkp.pth\"))"
      ],
      "execution_count": null,
      "outputs": []
    },
    {
      "cell_type": "code",
      "metadata": {
        "id": "pwsmhBYkCUE2",
        "outputId": "04899366-dc6a-4ba5-b5da-ee86b4a1326d",
        "colab": {
          "base_uri": "https://localhost:8080/",
          "height": 408
        }
      },
      "source": [
        "train_loss=[]\n",
        "valid_loss=[]\n",
        "epochs=[]\n",
        "\n",
        "\n",
        "\n",
        "for epoch in range(100):\n",
        "  acc_loss_train=0\n",
        "  train_acc=0\n",
        "  for img,label in dataloader_train:\n",
        "    out=model(img.cuda())\n",
        "    real=torch.LongTensor(label)\n",
        "    real=real.view(out.shape[0],1,1)\n",
        "    real=real*torch.ones((out.shape[0],4,4),dtype=torch.long)\n",
        "    loss=criterion(out,real.cuda())\n",
        "    acc_loss_train+=loss.item()\n",
        "#    train_acc+=(real==torch.nn.Softmax()(out).max(dim=1)[1]).sum().item()/img.shape[0]\n",
        "    \n",
        "    optimizer.zero_grad()\n",
        "    loss.backward()\n",
        "    optimizer.step()\n",
        "#    try:\n",
        "#      scheduler.step()\n",
        "#    except:\n",
        "#      pass\n",
        "\n",
        "  epochs.append(epoch)\n",
        "  train_loss.append(acc_loss_train/len(dataloader_train))\n",
        "#  train_acc=train_acc/len(dataloader_train)\n",
        "\n",
        "  model.eval()\n",
        "  acc_loss_valid=0\n",
        "  valid_acc=0\n",
        "  with torch.no_grad():\n",
        "    for img,label in dataloader_test:\n",
        "      out=model(img.cuda())\n",
        "      real=torch.LongTensor(label)\n",
        "      real=real.view(out.shape[0],1,1)\n",
        "      real=real*torch.ones((out.shape[0],4,4),dtype=torch.long)\n",
        "      loss=criterion(out,real.cuda())\n",
        "      acc_loss_valid+=loss.item()\n",
        "#      valid_acc+=(real==torch.nn.Softmax()(out).max(dim=1)[1]).sum().item()/img.shape[0]\n",
        "\n",
        "    valid_loss.append(acc_loss_valid/len(dataloader_test))\n",
        "#    valid_acc=valid_acc/len(dataloader_test)\n",
        "\n",
        "  model.train()\n",
        "  \n",
        "#  scheduler.step(acc_loss_valid)\n",
        "\n",
        "\n",
        "  if (epoch%25==0):\n",
        "    torch.save(model.state_dict(), \"./chkp.pth\")\n",
        "\n",
        "  pyplot.plot(epochs,train_loss)\n",
        "  pyplot.plot(epochs,valid_loss)\n",
        "  pyplot.show()\n",
        "  \n",
        "#  print(f\"Accuracy Train : {train_acc} ----- Accuracy Valid : {valid_acc}\")\n",
        "  print(f\"Train_Loss : {train_loss[-1]} ----- Valid_Loss : {valid_loss[-1]}\")\n",
        "\n"
      ],
      "execution_count": null,
      "outputs": [
        {
          "output_type": "error",
          "ename": "RuntimeError",
          "evalue": "ignored",
          "traceback": [
            "\u001b[0;31m---------------------------------------------------------------------------\u001b[0m",
            "\u001b[0;31mRuntimeError\u001b[0m                              Traceback (most recent call last)",
            "\u001b[0;32m<ipython-input-169-cf9880e46687>\u001b[0m in \u001b[0;36m<module>\u001b[0;34m()\u001b[0m\n\u001b[1;32m      9\u001b[0m   \u001b[0mtrain_acc\u001b[0m\u001b[0;34m=\u001b[0m\u001b[0;36m0\u001b[0m\u001b[0;34m\u001b[0m\u001b[0;34m\u001b[0m\u001b[0m\n\u001b[1;32m     10\u001b[0m   \u001b[0;32mfor\u001b[0m \u001b[0mimg\u001b[0m\u001b[0;34m,\u001b[0m\u001b[0mlabel\u001b[0m \u001b[0;32min\u001b[0m \u001b[0mdataloader_train\u001b[0m\u001b[0;34m:\u001b[0m\u001b[0;34m\u001b[0m\u001b[0;34m\u001b[0m\u001b[0m\n\u001b[0;32m---> 11\u001b[0;31m     \u001b[0mout\u001b[0m\u001b[0;34m=\u001b[0m\u001b[0mmodel\u001b[0m\u001b[0;34m(\u001b[0m\u001b[0mimg\u001b[0m\u001b[0;34m.\u001b[0m\u001b[0mcuda\u001b[0m\u001b[0;34m(\u001b[0m\u001b[0;34m)\u001b[0m\u001b[0;34m)\u001b[0m\u001b[0;34m\u001b[0m\u001b[0;34m\u001b[0m\u001b[0m\n\u001b[0m\u001b[1;32m     12\u001b[0m     \u001b[0mreal\u001b[0m\u001b[0;34m=\u001b[0m\u001b[0mtorch\u001b[0m\u001b[0;34m.\u001b[0m\u001b[0mLongTensor\u001b[0m\u001b[0;34m(\u001b[0m\u001b[0mlabel\u001b[0m\u001b[0;34m)\u001b[0m\u001b[0;34m\u001b[0m\u001b[0;34m\u001b[0m\u001b[0m\n\u001b[1;32m     13\u001b[0m     \u001b[0mreal\u001b[0m\u001b[0;34m=\u001b[0m\u001b[0mreal\u001b[0m\u001b[0;34m.\u001b[0m\u001b[0mview\u001b[0m\u001b[0;34m(\u001b[0m\u001b[0mout\u001b[0m\u001b[0;34m.\u001b[0m\u001b[0mshape\u001b[0m\u001b[0;34m[\u001b[0m\u001b[0;36m0\u001b[0m\u001b[0;34m]\u001b[0m\u001b[0;34m,\u001b[0m\u001b[0;36m1\u001b[0m\u001b[0;34m,\u001b[0m\u001b[0;36m1\u001b[0m\u001b[0;34m)\u001b[0m\u001b[0;34m\u001b[0m\u001b[0;34m\u001b[0m\u001b[0m\n",
            "\u001b[0;32m/usr/local/lib/python3.6/dist-packages/torch/nn/modules/module.py\u001b[0m in \u001b[0;36m_call_impl\u001b[0;34m(self, *input, **kwargs)\u001b[0m\n\u001b[1;32m    720\u001b[0m             \u001b[0mresult\u001b[0m \u001b[0;34m=\u001b[0m \u001b[0mself\u001b[0m\u001b[0;34m.\u001b[0m\u001b[0m_slow_forward\u001b[0m\u001b[0;34m(\u001b[0m\u001b[0;34m*\u001b[0m\u001b[0minput\u001b[0m\u001b[0;34m,\u001b[0m \u001b[0;34m**\u001b[0m\u001b[0mkwargs\u001b[0m\u001b[0;34m)\u001b[0m\u001b[0;34m\u001b[0m\u001b[0;34m\u001b[0m\u001b[0m\n\u001b[1;32m    721\u001b[0m         \u001b[0;32melse\u001b[0m\u001b[0;34m:\u001b[0m\u001b[0;34m\u001b[0m\u001b[0;34m\u001b[0m\u001b[0m\n\u001b[0;32m--> 722\u001b[0;31m             \u001b[0mresult\u001b[0m \u001b[0;34m=\u001b[0m \u001b[0mself\u001b[0m\u001b[0;34m.\u001b[0m\u001b[0mforward\u001b[0m\u001b[0;34m(\u001b[0m\u001b[0;34m*\u001b[0m\u001b[0minput\u001b[0m\u001b[0;34m,\u001b[0m \u001b[0;34m**\u001b[0m\u001b[0mkwargs\u001b[0m\u001b[0;34m)\u001b[0m\u001b[0;34m\u001b[0m\u001b[0;34m\u001b[0m\u001b[0m\n\u001b[0m\u001b[1;32m    723\u001b[0m         for hook in itertools.chain(\n\u001b[1;32m    724\u001b[0m                 \u001b[0m_global_forward_hooks\u001b[0m\u001b[0;34m.\u001b[0m\u001b[0mvalues\u001b[0m\u001b[0;34m(\u001b[0m\u001b[0;34m)\u001b[0m\u001b[0;34m,\u001b[0m\u001b[0;34m\u001b[0m\u001b[0;34m\u001b[0m\u001b[0m\n",
            "\u001b[0;32m<ipython-input-23-e3c6d23aeb38>\u001b[0m in \u001b[0;36mforward\u001b[0;34m(self, input)\u001b[0m\n\u001b[1;32m     61\u001b[0m   \u001b[0;32mdef\u001b[0m \u001b[0mforward\u001b[0m\u001b[0;34m(\u001b[0m\u001b[0mself\u001b[0m\u001b[0;34m,\u001b[0m\u001b[0minput\u001b[0m\u001b[0;34m)\u001b[0m\u001b[0;34m:\u001b[0m\u001b[0;34m\u001b[0m\u001b[0;34m\u001b[0m\u001b[0m\n\u001b[1;32m     62\u001b[0m     \u001b[0ma\u001b[0m\u001b[0;34m=\u001b[0m\u001b[0mself\u001b[0m\u001b[0;34m.\u001b[0m\u001b[0mnetwork1\u001b[0m\u001b[0;34m(\u001b[0m\u001b[0minput\u001b[0m\u001b[0;34m)\u001b[0m\u001b[0;34m\u001b[0m\u001b[0;34m\u001b[0m\u001b[0m\n\u001b[0;32m---> 63\u001b[0;31m     \u001b[0mb\u001b[0m\u001b[0;34m=\u001b[0m\u001b[0ma\u001b[0m\u001b[0;34m+\u001b[0m\u001b[0mself\u001b[0m\u001b[0;34m.\u001b[0m\u001b[0mnetwork2\u001b[0m\u001b[0;34m(\u001b[0m\u001b[0ma\u001b[0m\u001b[0;34m)\u001b[0m\u001b[0;34m\u001b[0m\u001b[0;34m\u001b[0m\u001b[0m\n\u001b[0m\u001b[1;32m     64\u001b[0m     \u001b[0mc\u001b[0m\u001b[0;34m=\u001b[0m\u001b[0mself\u001b[0m\u001b[0;34m.\u001b[0m\u001b[0mdownsample\u001b[0m\u001b[0;34m(\u001b[0m\u001b[0mb\u001b[0m\u001b[0;34m)\u001b[0m\u001b[0;34m\u001b[0m\u001b[0;34m\u001b[0m\u001b[0m\n\u001b[1;32m     65\u001b[0m \u001b[0;34m\u001b[0m\u001b[0m\n",
            "\u001b[0;32m/usr/local/lib/python3.6/dist-packages/torch/nn/modules/module.py\u001b[0m in \u001b[0;36m_call_impl\u001b[0;34m(self, *input, **kwargs)\u001b[0m\n\u001b[1;32m    720\u001b[0m             \u001b[0mresult\u001b[0m \u001b[0;34m=\u001b[0m \u001b[0mself\u001b[0m\u001b[0;34m.\u001b[0m\u001b[0m_slow_forward\u001b[0m\u001b[0;34m(\u001b[0m\u001b[0;34m*\u001b[0m\u001b[0minput\u001b[0m\u001b[0;34m,\u001b[0m \u001b[0;34m**\u001b[0m\u001b[0mkwargs\u001b[0m\u001b[0;34m)\u001b[0m\u001b[0;34m\u001b[0m\u001b[0;34m\u001b[0m\u001b[0m\n\u001b[1;32m    721\u001b[0m         \u001b[0;32melse\u001b[0m\u001b[0;34m:\u001b[0m\u001b[0;34m\u001b[0m\u001b[0;34m\u001b[0m\u001b[0m\n\u001b[0;32m--> 722\u001b[0;31m             \u001b[0mresult\u001b[0m \u001b[0;34m=\u001b[0m \u001b[0mself\u001b[0m\u001b[0;34m.\u001b[0m\u001b[0mforward\u001b[0m\u001b[0;34m(\u001b[0m\u001b[0;34m*\u001b[0m\u001b[0minput\u001b[0m\u001b[0;34m,\u001b[0m \u001b[0;34m**\u001b[0m\u001b[0mkwargs\u001b[0m\u001b[0;34m)\u001b[0m\u001b[0;34m\u001b[0m\u001b[0;34m\u001b[0m\u001b[0m\n\u001b[0m\u001b[1;32m    723\u001b[0m         for hook in itertools.chain(\n\u001b[1;32m    724\u001b[0m                 \u001b[0m_global_forward_hooks\u001b[0m\u001b[0;34m.\u001b[0m\u001b[0mvalues\u001b[0m\u001b[0;34m(\u001b[0m\u001b[0;34m)\u001b[0m\u001b[0;34m,\u001b[0m\u001b[0;34m\u001b[0m\u001b[0;34m\u001b[0m\u001b[0m\n",
            "\u001b[0;32m/usr/local/lib/python3.6/dist-packages/torch/nn/modules/container.py\u001b[0m in \u001b[0;36mforward\u001b[0;34m(self, input)\u001b[0m\n\u001b[1;32m    115\u001b[0m     \u001b[0;32mdef\u001b[0m \u001b[0mforward\u001b[0m\u001b[0;34m(\u001b[0m\u001b[0mself\u001b[0m\u001b[0;34m,\u001b[0m \u001b[0minput\u001b[0m\u001b[0;34m)\u001b[0m\u001b[0;34m:\u001b[0m\u001b[0;34m\u001b[0m\u001b[0;34m\u001b[0m\u001b[0m\n\u001b[1;32m    116\u001b[0m         \u001b[0;32mfor\u001b[0m \u001b[0mmodule\u001b[0m \u001b[0;32min\u001b[0m \u001b[0mself\u001b[0m\u001b[0;34m:\u001b[0m\u001b[0;34m\u001b[0m\u001b[0;34m\u001b[0m\u001b[0m\n\u001b[0;32m--> 117\u001b[0;31m             \u001b[0minput\u001b[0m \u001b[0;34m=\u001b[0m \u001b[0mmodule\u001b[0m\u001b[0;34m(\u001b[0m\u001b[0minput\u001b[0m\u001b[0;34m)\u001b[0m\u001b[0;34m\u001b[0m\u001b[0;34m\u001b[0m\u001b[0m\n\u001b[0m\u001b[1;32m    118\u001b[0m         \u001b[0;32mreturn\u001b[0m \u001b[0minput\u001b[0m\u001b[0;34m\u001b[0m\u001b[0;34m\u001b[0m\u001b[0m\n\u001b[1;32m    119\u001b[0m \u001b[0;34m\u001b[0m\u001b[0m\n",
            "\u001b[0;32m/usr/local/lib/python3.6/dist-packages/torch/nn/modules/module.py\u001b[0m in \u001b[0;36m_call_impl\u001b[0;34m(self, *input, **kwargs)\u001b[0m\n\u001b[1;32m    720\u001b[0m             \u001b[0mresult\u001b[0m \u001b[0;34m=\u001b[0m \u001b[0mself\u001b[0m\u001b[0;34m.\u001b[0m\u001b[0m_slow_forward\u001b[0m\u001b[0;34m(\u001b[0m\u001b[0;34m*\u001b[0m\u001b[0minput\u001b[0m\u001b[0;34m,\u001b[0m \u001b[0;34m**\u001b[0m\u001b[0mkwargs\u001b[0m\u001b[0;34m)\u001b[0m\u001b[0;34m\u001b[0m\u001b[0;34m\u001b[0m\u001b[0m\n\u001b[1;32m    721\u001b[0m         \u001b[0;32melse\u001b[0m\u001b[0;34m:\u001b[0m\u001b[0;34m\u001b[0m\u001b[0;34m\u001b[0m\u001b[0m\n\u001b[0;32m--> 722\u001b[0;31m             \u001b[0mresult\u001b[0m \u001b[0;34m=\u001b[0m \u001b[0mself\u001b[0m\u001b[0;34m.\u001b[0m\u001b[0mforward\u001b[0m\u001b[0;34m(\u001b[0m\u001b[0;34m*\u001b[0m\u001b[0minput\u001b[0m\u001b[0;34m,\u001b[0m \u001b[0;34m**\u001b[0m\u001b[0mkwargs\u001b[0m\u001b[0;34m)\u001b[0m\u001b[0;34m\u001b[0m\u001b[0;34m\u001b[0m\u001b[0m\n\u001b[0m\u001b[1;32m    723\u001b[0m         for hook in itertools.chain(\n\u001b[1;32m    724\u001b[0m                 \u001b[0m_global_forward_hooks\u001b[0m\u001b[0;34m.\u001b[0m\u001b[0mvalues\u001b[0m\u001b[0;34m(\u001b[0m\u001b[0;34m)\u001b[0m\u001b[0;34m,\u001b[0m\u001b[0;34m\u001b[0m\u001b[0;34m\u001b[0m\u001b[0m\n",
            "\u001b[0;32m/usr/local/lib/python3.6/dist-packages/torch/nn/modules/batchnorm.py\u001b[0m in \u001b[0;36mforward\u001b[0;34m(self, input)\u001b[0m\n\u001b[1;32m    134\u001b[0m             \u001b[0mself\u001b[0m\u001b[0;34m.\u001b[0m\u001b[0mrunning_mean\u001b[0m \u001b[0;32mif\u001b[0m \u001b[0;32mnot\u001b[0m \u001b[0mself\u001b[0m\u001b[0;34m.\u001b[0m\u001b[0mtraining\u001b[0m \u001b[0;32mor\u001b[0m \u001b[0mself\u001b[0m\u001b[0;34m.\u001b[0m\u001b[0mtrack_running_stats\u001b[0m \u001b[0;32melse\u001b[0m \u001b[0;32mNone\u001b[0m\u001b[0;34m,\u001b[0m\u001b[0;34m\u001b[0m\u001b[0;34m\u001b[0m\u001b[0m\n\u001b[1;32m    135\u001b[0m             \u001b[0mself\u001b[0m\u001b[0;34m.\u001b[0m\u001b[0mrunning_var\u001b[0m \u001b[0;32mif\u001b[0m \u001b[0;32mnot\u001b[0m \u001b[0mself\u001b[0m\u001b[0;34m.\u001b[0m\u001b[0mtraining\u001b[0m \u001b[0;32mor\u001b[0m \u001b[0mself\u001b[0m\u001b[0;34m.\u001b[0m\u001b[0mtrack_running_stats\u001b[0m \u001b[0;32melse\u001b[0m \u001b[0;32mNone\u001b[0m\u001b[0;34m,\u001b[0m\u001b[0;34m\u001b[0m\u001b[0;34m\u001b[0m\u001b[0m\n\u001b[0;32m--> 136\u001b[0;31m             self.weight, self.bias, bn_training, exponential_average_factor, self.eps)\n\u001b[0m\u001b[1;32m    137\u001b[0m \u001b[0;34m\u001b[0m\u001b[0m\n\u001b[1;32m    138\u001b[0m \u001b[0;34m\u001b[0m\u001b[0m\n",
            "\u001b[0;32m/usr/local/lib/python3.6/dist-packages/torch/nn/functional.py\u001b[0m in \u001b[0;36mbatch_norm\u001b[0;34m(input, running_mean, running_var, weight, bias, training, momentum, eps)\u001b[0m\n\u001b[1;32m   2014\u001b[0m     return torch.batch_norm(\n\u001b[1;32m   2015\u001b[0m         \u001b[0minput\u001b[0m\u001b[0;34m,\u001b[0m \u001b[0mweight\u001b[0m\u001b[0;34m,\u001b[0m \u001b[0mbias\u001b[0m\u001b[0;34m,\u001b[0m \u001b[0mrunning_mean\u001b[0m\u001b[0;34m,\u001b[0m \u001b[0mrunning_var\u001b[0m\u001b[0;34m,\u001b[0m\u001b[0;34m\u001b[0m\u001b[0;34m\u001b[0m\u001b[0m\n\u001b[0;32m-> 2016\u001b[0;31m         \u001b[0mtraining\u001b[0m\u001b[0;34m,\u001b[0m \u001b[0mmomentum\u001b[0m\u001b[0;34m,\u001b[0m \u001b[0meps\u001b[0m\u001b[0;34m,\u001b[0m \u001b[0mtorch\u001b[0m\u001b[0;34m.\u001b[0m\u001b[0mbackends\u001b[0m\u001b[0;34m.\u001b[0m\u001b[0mcudnn\u001b[0m\u001b[0;34m.\u001b[0m\u001b[0menabled\u001b[0m\u001b[0;34m\u001b[0m\u001b[0;34m\u001b[0m\u001b[0m\n\u001b[0m\u001b[1;32m   2017\u001b[0m     )\n\u001b[1;32m   2018\u001b[0m \u001b[0;34m\u001b[0m\u001b[0m\n",
            "\u001b[0;31mRuntimeError\u001b[0m: CUDA out of memory. Tried to allocate 512.00 MiB (GPU 0; 11.17 GiB total capacity; 8.89 GiB already allocated; 171.81 MiB free; 10.64 GiB reserved in total by PyTorch)"
          ]
        }
      ]
    },
    {
      "cell_type": "code",
      "metadata": {
        "id": "cD30AKPLzJzh"
      },
      "source": [
        "#!git clone https://github.com/tanjimin/grad-cam-pytorch-light.git\n",
        "#!mv ./grad-cam-pytorch-light/* ./"
      ],
      "execution_count": null,
      "outputs": []
    },
    {
      "cell_type": "code",
      "metadata": {
        "id": "Icsis_J80eZw",
        "outputId": "605dc354-8195-4393-9c46-1b37bb662bbc",
        "colab": {
          "base_uri": "https://localhost:8080/",
          "height": 34
        }
      },
      "source": [
        "model.load_state_dict(torch.load(\"chkp.pth\"))"
      ],
      "execution_count": null,
      "outputs": [
        {
          "output_type": "execute_result",
          "data": {
            "text/plain": [
              "<All keys matched successfully>"
            ]
          },
          "metadata": {
            "tags": []
          },
          "execution_count": 8
        }
      ]
    },
    {
      "cell_type": "code",
      "metadata": {
        "id": "mYKoOSZIcaef",
        "outputId": "e9f122b5-1ebc-4cbc-c61b-b072b632550c",
        "colab": {
          "base_uri": "https://localhost:8080/",
          "height": 1000
        }
      },
      "source": [
        "model.eval()"
      ],
      "execution_count": null,
      "outputs": [
        {
          "output_type": "execute_result",
          "data": {
            "text/plain": [
              "custom_model_RESBLOCK(\n",
              "  (downsample): MaxPool2d(kernel_size=2, stride=2, padding=0, dilation=1, ceil_mode=False)\n",
              "  (network1): Sequential(\n",
              "    (0): Conv2d(3, 64, kernel_size=(3, 3), stride=(1, 1), padding=(1, 1))\n",
              "    (1): BatchNorm2d(64, eps=1e-05, momentum=0.1, affine=True, track_running_stats=True)\n",
              "    (2): LeakyReLU(negative_slope=0.1)\n",
              "  )\n",
              "  (network2): Sequential(\n",
              "    (0): Conv2d(64, 64, kernel_size=(3, 3), stride=(1, 1), padding=(1, 1))\n",
              "    (1): BatchNorm2d(64, eps=1e-05, momentum=0.1, affine=True, track_running_stats=True)\n",
              "    (2): LeakyReLU(negative_slope=0.1)\n",
              "  )\n",
              "  (network3): Sequential(\n",
              "    (0): Conv2d(64, 128, kernel_size=(3, 3), stride=(1, 1), padding=(1, 1))\n",
              "    (1): BatchNorm2d(128, eps=1e-05, momentum=0.1, affine=True, track_running_stats=True)\n",
              "    (2): LeakyReLU(negative_slope=0.1)\n",
              "  )\n",
              "  (network4): Sequential(\n",
              "    (0): Conv2d(128, 128, kernel_size=(3, 3), stride=(1, 1), padding=(1, 1))\n",
              "    (1): BatchNorm2d(128, eps=1e-05, momentum=0.1, affine=True, track_running_stats=True)\n",
              "    (2): LeakyReLU(negative_slope=0.1)\n",
              "  )\n",
              "  (network5): Sequential(\n",
              "    (0): Conv2d(128, 256, kernel_size=(3, 3), stride=(1, 1), padding=(1, 1))\n",
              "    (1): BatchNorm2d(256, eps=1e-05, momentum=0.1, affine=True, track_running_stats=True)\n",
              "    (2): LeakyReLU(negative_slope=0.1)\n",
              "  )\n",
              "  (network6): Sequential(\n",
              "    (0): Conv2d(256, 256, kernel_size=(3, 3), stride=(1, 1), padding=(1, 1))\n",
              "    (1): BatchNorm2d(256, eps=1e-05, momentum=0.1, affine=True, track_running_stats=True)\n",
              "    (2): LeakyReLU(negative_slope=0.1)\n",
              "  )\n",
              "  (network7): Sequential(\n",
              "    (0): Conv2d(256, 512, kernel_size=(3, 3), stride=(1, 1), padding=(1, 1))\n",
              "    (1): BatchNorm2d(512, eps=1e-05, momentum=0.1, affine=True, track_running_stats=True)\n",
              "    (2): LeakyReLU(negative_slope=0.1)\n",
              "  )\n",
              "  (network8): Sequential(\n",
              "    (0): Conv2d(512, 512, kernel_size=(3, 3), stride=(1, 1), padding=(1, 1))\n",
              "    (1): BatchNorm2d(512, eps=1e-05, momentum=0.1, affine=True, track_running_stats=True)\n",
              "    (2): LeakyReLU(negative_slope=0.1)\n",
              "  )\n",
              "  (network9): Sequential(\n",
              "    (0): Conv2d(512, 512, kernel_size=(3, 3), stride=(1, 1), padding=(1, 1))\n",
              "    (1): BatchNorm2d(512, eps=1e-05, momentum=0.1, affine=True, track_running_stats=True)\n",
              "    (2): LeakyReLU(negative_slope=0.1)\n",
              "  )\n",
              "  (network10): Sequential(\n",
              "    (0): Conv2d(512, 512, kernel_size=(3, 3), stride=(1, 1), padding=(1, 1))\n",
              "    (1): BatchNorm2d(512, eps=1e-05, momentum=0.1, affine=True, track_running_stats=True)\n",
              "    (2): LeakyReLU(negative_slope=0.1)\n",
              "  )\n",
              "  (network11): Sequential(\n",
              "    (0): Conv2d(512, 1024, kernel_size=(3, 3), stride=(1, 1), padding=(1, 1))\n",
              "    (1): BatchNorm2d(1024, eps=1e-05, momentum=0.1, affine=True, track_running_stats=True)\n",
              "    (2): LeakyReLU(negative_slope=0.1)\n",
              "  )\n",
              "  (network12): Sequential(\n",
              "    (0): Conv2d(1024, 1024, kernel_size=(3, 3), stride=(1, 1), padding=(1, 1))\n",
              "    (1): BatchNorm2d(1024, eps=1e-05, momentum=0.1, affine=True, track_running_stats=True)\n",
              "    (2): LeakyReLU(negative_slope=0.1)\n",
              "  )\n",
              "  (features): Sequential(\n",
              "    (0): Conv2d(1024, 2, kernel_size=(3, 3), stride=(1, 1), padding=(1, 1))\n",
              "    (1): BatchNorm2d(2, eps=1e-05, momentum=0.1, affine=True, track_running_stats=True)\n",
              "    (2): LeakyReLU(negative_slope=0.1)\n",
              "  )\n",
              ")"
            ]
          },
          "metadata": {
            "tags": []
          },
          "execution_count": 9
        }
      ]
    },
    {
      "cell_type": "code",
      "metadata": {
        "id": "E3pRLFyKqvL-",
        "outputId": "45677943-a7fb-4875-d911-0bbee8487817",
        "colab": {
          "base_uri": "https://localhost:8080/",
          "height": 34
        }
      },
      "source": [
        "img=cv2.imread(\"a.jpg\")\n",
        "cv2.imwrite(\"1.jpg\",img)"
      ],
      "execution_count": null,
      "outputs": [
        {
          "output_type": "execute_result",
          "data": {
            "text/plain": [
              "True"
            ]
          },
          "metadata": {
            "tags": []
          },
          "execution_count": 11
        }
      ]
    },
    {
      "cell_type": "code",
      "metadata": {
        "id": "83a7xx6WCujo"
      },
      "source": [
        "from PIL import Image\n",
        "img=Image.open(\"2.jpg\")"
      ],
      "execution_count": null,
      "outputs": []
    },
    {
      "cell_type": "code",
      "metadata": {
        "id": "yY_gjrP1uVot"
      },
      "source": [
        "\n",
        "transformerx=transforms.Compose([\n",
        "        transforms.Resize((1024,1024)),\n",
        "    #    transforms.ColorJitter(brightness=0.3, contrast=0.3, saturation=0.3, hue=0),\n",
        "    #    transforms.RandomAffine(degrees=20, translate=(0.1, 0.1), scale=(0.8, 1.2),\n",
        "    #                        shear=None, resample=False, fillcolor=(255, 255, 255)),\n",
        "        transforms.ToTensor(),\n",
        "        transforms.Normalize([0.5, 0.5, 0.5], [0.5, 0.5, 0.5])\n",
        "      #  transforms.Normalize([0.485, 0.456, 0.406], [0.229, 0.224, 0.225])\n",
        "    ])"
      ],
      "execution_count": null,
      "outputs": []
    },
    {
      "cell_type": "code",
      "metadata": {
        "id": "y8664xHht-Xj"
      },
      "source": [
        "tensor=transformerx(img)"
      ],
      "execution_count": null,
      "outputs": []
    },
    {
      "cell_type": "code",
      "metadata": {
        "id": "yeM-MlPUn_n9"
      },
      "source": [
        "dataset_train.class_to_idx"
      ],
      "execution_count": null,
      "outputs": []
    },
    {
      "cell_type": "code",
      "metadata": {
        "id": "aIKRAmeDuiTL"
      },
      "source": [
        "out=model(tensor.unsqueeze(dim=0).cuda())"
      ],
      "execution_count": null,
      "outputs": []
    },
    {
      "cell_type": "code",
      "metadata": {
        "id": "ytRGqiZ2kzJ6",
        "outputId": "a54bb44d-e40b-4c45-c81b-89fd7a3c136b",
        "colab": {
          "base_uri": "https://localhost:8080/",
          "height": 34
        }
      },
      "source": [
        "out.shape"
      ],
      "execution_count": null,
      "outputs": [
        {
          "output_type": "execute_result",
          "data": {
            "text/plain": [
              "torch.Size([1, 2, 16, 16])"
            ]
          },
          "metadata": {
            "tags": []
          },
          "execution_count": 27
        }
      ]
    },
    {
      "cell_type": "code",
      "metadata": {
        "id": "s6xZbQnDksd7"
      },
      "source": [
        "out=torch.nn.Softmax(dim=1)(out)"
      ],
      "execution_count": null,
      "outputs": []
    },
    {
      "cell_type": "code",
      "metadata": {
        "id": "n-Fw_oZBZodE",
        "outputId": "30550083-07c4-40ce-cd27-6ffb15047610",
        "colab": {
          "base_uri": "https://localhost:8080/",
          "height": 51
        }
      },
      "source": [
        "\n",
        "preds = torch.softmax(out, dim=1)\n",
        "print('Response map shape : ', preds.shape)\n",
        "\n",
        "pred, class_idx = torch.max(preds, dim=1)\n",
        "\n",
        "\n",
        "row_max, row_idx = torch.max(pred, dim=1)\n",
        "col_max, col_idx = torch.max(row_max, dim=1)\n",
        "predicted_class = class_idx[0, row_idx[0, col_idx], col_idx]\n",
        "        \n",
        "print('Predicted Class : ', predicted_class)"
      ],
      "execution_count": null,
      "outputs": [
        {
          "output_type": "stream",
          "text": [
            "Response map shape :  torch.Size([1, 2, 16, 16])\n",
            "Predicted Class :  tensor([0], device='cuda:0')\n"
          ],
          "name": "stdout"
        }
      ]
    },
    {
      "cell_type": "code",
      "metadata": {
        "id": "bBN6FQqIbyD2",
        "outputId": "5cef15f6-d536-4246-bfd9-8ba4645e9950",
        "colab": {
          "base_uri": "https://localhost:8080/",
          "height": 34
        }
      },
      "source": [
        "pred.shape"
      ],
      "execution_count": null,
      "outputs": [
        {
          "output_type": "execute_result",
          "data": {
            "text/plain": [
              "torch.Size([1, 16, 16])"
            ]
          },
          "metadata": {
            "tags": []
          },
          "execution_count": 30
        }
      ]
    },
    {
      "cell_type": "code",
      "metadata": {
        "id": "xCi1t1gXj0_8",
        "outputId": "5e0343de-dc49-4906-ae1c-e22d3d64fd7f",
        "colab": {
          "base_uri": "https://localhost:8080/",
          "height": 282
        }
      },
      "source": [
        "pyplot.imshow(out[0].detach().cpu()[0],cmap='gray')"
      ],
      "execution_count": null,
      "outputs": [
        {
          "output_type": "execute_result",
          "data": {
            "text/plain": [
              "<matplotlib.image.AxesImage at 0x7fcbb00c0ac8>"
            ]
          },
          "metadata": {
            "tags": []
          },
          "execution_count": 31
        },
        {
          "output_type": "display_data",
          "data": {
            "image/png": "[encoded data removed]",
            "text/plain": [
              "<Figure size 432x288 with 1 Axes>"
            ]
          },
          "metadata": {
            "tags": [],
            "needs_background": "light"
          }
        }
      ]
    },
    {
      "cell_type": "code",
      "metadata": {
        "id": "rTeND_jCJLJh",
        "outputId": "9e55ffde-d731-4400-87d4-66fc6c611c91",
        "colab": {
          "base_uri": "https://localhost:8080/",
          "height": 34
        }
      },
      "source": [
        "predicted_class.item()"
      ],
      "execution_count": null,
      "outputs": [
        {
          "output_type": "execute_result",
          "data": {
            "text/plain": [
              "0"
            ]
          },
          "metadata": {
            "tags": []
          },
          "execution_count": 41
        }
      ]
    },
    {
      "cell_type": "code",
      "metadata": {
        "id": "zVzO-owymT_O"
      },
      "source": [
        "ten=out[0].detach().cpu()[0]\n",
        "ten=(ten-ten.min())/(ten.max()-ten.min())\n",
        "\n",
        "ten.apply_(lambda x:1 if(x>0.80) else 0)\n",
        "\n",
        "\n",
        "\n",
        "ten=255*ten.numpy()\n",
        "ten=np.array(ten,dtype=np.uint8)\n",
        "abc=cv2.applyColorMap(ten, cv2.COLORMAP_JET)\n",
        "abc=cv2.resize(abc,(1024,1024))\n",
        "\n",
        "imm=cv2.imread(\"2.jpg\")\n",
        "imm=cv2.cvtColor(imm,cv2.COLOR_BGR2GRAY)\n",
        "imm=cv2.threshold(imm,127,255,cv2.THRESH_BINARY)\n"
      ],
      "execution_count": null,
      "outputs": []
    },
    {
      "cell_type": "code",
      "metadata": {
        "id": "n0FC4veGqkyj",
        "outputId": "c8325e21-9e73-46c8-8f90-26215bd09fce",
        "colab": {
          "base_uri": "https://localhost:8080/",
          "height": 286
        }
      },
      "source": [
        "\n",
        "immx=cv2.imread(\"2.jpg\")\n",
        "immx=cv2.resize(immx,(1024,1024))\n",
        "\n",
        "imm=cv2.cvtColor(immx,cv2.COLOR_BGR2GRAY)\n",
        "_,imm=cv2.threshold(imm,127,255,cv2.THRESH_BINARY)\n",
        "\n",
        "i=cv2.bitwise_and(abc,abc,mask=imm)\n",
        "\n",
        "\n",
        "dst = cv2.addWeighted(immx, 0.4, i, 0.6, 0.0)\n",
        "pyplot.imshow(dst)\n"
      ],
      "execution_count": null,
      "outputs": [
        {
          "output_type": "execute_result",
          "data": {
            "text/plain": [
              "<matplotlib.image.AxesImage at 0x7fcb9db1df98>"
            ]
          },
          "metadata": {
            "tags": []
          },
          "execution_count": 39
        },
        {
          "output_type": "display_data",
          "data": {
            "image/png": "[encoded data removed]",
            "text/plain": [
              "<Figure size 432x288 with 1 Axes>"
            ]
          },
          "metadata": {
            "tags": [],
            "needs_background": "light"
          }
        }
      ]
    },
    {
      "cell_type": "code",
      "metadata": {
        "id": "iEQ43TM1nZm3",
        "outputId": "c62407af-49aa-4b45-b1cd-6ed0d0826744",
        "colab": {
          "base_uri": "https://localhost:8080/",
          "height": 286
        }
      },
      "source": [
        "pyplot.imshow(i)"
      ],
      "execution_count": null,
      "outputs": [
        {
          "output_type": "execute_result",
          "data": {
            "text/plain": [
              "<matplotlib.image.AxesImage at 0x7fcbb006c0b8>"
            ]
          },
          "metadata": {
            "tags": []
          },
          "execution_count": 35
        },
        {
          "output_type": "display_data",
          "data": {
            "image/png": "[encoded data removed]",
            "text/plain": [
              "<Figure size 432x288 with 1 Axes>"
            ]
          },
          "metadata": {
            "tags": [],
            "needs_background": "light"
          }
        }
      ]
    },
    {
      "cell_type": "code",
      "metadata": {
        "id": "UUAjbOPTnZuh"
      },
      "source": [
        ""
      ],
      "execution_count": null,
      "outputs": []
    },
    {
      "cell_type": "code",
      "metadata": {
        "id": "ZU7Q3kRHnZjV"
      },
      "source": [
        ""
      ],
      "execution_count": null,
      "outputs": []
    }
  ]
}